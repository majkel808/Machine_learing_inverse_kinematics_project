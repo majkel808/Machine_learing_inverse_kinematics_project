{
 "cells": [
  {
   "cell_type": "code",
   "execution_count": 2,
   "id": "f0959a71-953b-4361-aaae-db69455c7c12",
   "metadata": {},
   "outputs": [
    {
     "name": "stdout",
     "output_type": "stream",
     "text": [
      "From local\n"
     ]
    }
   ],
   "source": [
    "import matplotlib.pyplot as plt\n",
    "from tensorflow.keras.models import load_model\n",
    "#Data Manipulation\n",
    "import pandas as pd\n",
    "import numpy as np\n",
    "\n",
    "# Machine Learning\n",
    "import tensorflow as tf\n",
    "from tensorflow.keras.models import Model\n",
    "from tensorflow.keras.layers import Dense, Input\n",
    "from tensorflow.keras.utils import plot_model\n",
    "from sklearn.model_selection import train_test_split\n",
    "from tensorflow.keras.models import Model\n",
    "from tensorflow.keras.layers import Input, Dense\n",
    "from tensorflow.keras.layers import Input, Dense, Dropout\n",
    "import tensorflow as tf\n",
    "\n",
    "df = pd.read_csv(\"collected_data_180_step_1.csv\")\n",
    "    \n",
    "print(\"From local\")\n",
    "\n",
    "df.head()\n",
    "\n",
    "# Train test split\n",
    "X_train_df, X_test_df = train_test_split(df, test_size=0.2, random_state=42)\n",
    "\n",
    "# Train values\n",
    "y1_train = np.array(X_train_df[\"Theta1\"])\n",
    "y2_train = np.array(X_train_df[\"Theta2\"])\n",
    "y3_train = np.array(X_train_df[\"Theta3\"])\n",
    "\n",
    "# Test values\n",
    "y1_test = np.array(X_test_df[\"Theta1\"])\n",
    "y2_test = np.array(X_test_df[\"Theta2\"])\n",
    "y3_test = np.array(X_test_df[\"Theta3\"])\n",
    "\n",
    "# Remove the target values from the dataset\n",
    "X_train_df = X_train_df.drop([\"Theta1\", \"Theta2\", \"Theta3\"], axis=1)\n",
    "X_test_df = X_test_df.drop([\"Theta1\", \"Theta2\", \"Theta3\"], axis=1)\n",
    "\n",
    "# Normalizing the dataset\n",
    "X_train_norm = (X_train_df - X_train_df.mean()) / X_train_df.std()\n",
    "X_test_norm = (X_test_df - X_test_df.mean()) / X_test_df.std()\n",
    "\n",
    "# Convert to numpy arrays\n",
    "X_train = X_train_norm.values\n",
    "X_valid = X_test_norm.values\n",
    "\n",
    "y1_train = y1_train.reshape(-1, 1) # Reshape y1_train to match X_train\n",
    "y2_train = y2_train.reshape(-1, 1) # Reshape y2_train to match X_train\n",
    "y3_train = y3_train.reshape(-1, 1) # Reshape y3_train to match X_train\n",
    "\n",
    "y1_test = y1_test.reshape(-1, 1) # Reshape y1_train to match X_train\n",
    "y2_test = y2_test.reshape(-1, 1) # Reshape y2_train to match X_train\n",
    "y3_test = y3_test.reshape(-1, 1) # Reshape y2_train to match X_train\n",
    "\n",
    "y_train = (y1_train, y2_train, y3_train)\n",
    "y_valid = (y1_test, y2_test, y3_test)\n"
   ]
  },
  {
   "cell_type": "code",
   "execution_count": 2,
   "id": "a685a664-19df-454c-911c-67beff9d4642",
   "metadata": {},
   "outputs": [],
   "source": [
    "from keras.models import load_model\n",
    "import os\n",
    "\n",
    "# Ścieżka do katalogu, w którym znajduje się zapisany model\n",
    "directory = r'C:\\Majkel\\Robotyka\\PYTHON_TEST\\MODEL_50_1_ONE_TARGET_AT_TIME'\n",
    "\n",
    "# Ścieżka do pliku modelu\n",
    "model_path_y1 = os.path.join(directory, 'MODEL_50_1_ONE_TARGET_AT_TIME_y1')\n",
    "model_path_y2 = os.path.join(directory, 'MODEL_50_1_ONE_TARGET_AT_TIME_y2')\n",
    "model_path_y3 = os.path.join(directory, 'MODEL_50_1_ONE_TARGET_AT_TIME_y3')\n",
    "# Załaduj model z podanej ścieżki\n",
    "model_y1 = load_model(model_path_y1)\n",
    "model_y2 = load_model(model_path_y2)\n",
    "model_y3 = load_model(model_path_y3)"
   ]
  },
  {
   "cell_type": "code",
   "execution_count": 22,
   "id": "b9d34875-2920-4c77-929b-d8906ff9d7cb",
   "metadata": {},
   "outputs": [
    {
     "name": "stderr",
     "output_type": "stream",
     "text": [
      "C:\\Users\\1mich\\anaconda3\\Lib\\site-packages\\keras\\src\\saving\\saving_lib.py:396: UserWarning: Skipping variable loading for optimizer 'rmsprop', because it has 10 variables whereas the saved optimizer has 2 variables. \n",
      "  trackable.load_own_variables(weights_store.get(inner_path))\n"
     ]
    }
   ],
   "source": [
    "import os\n",
    "from keras.models import load_model\n",
    "\n",
    "# Ścieżka do katalogu, w którym znajdują się zapisane modele\n",
    "directory = r'C:\\Users\\1mich\\PYTHON\\MODEL'\n",
    "\n",
    "# Ścieżki do plików z modelami\n",
    "model_path_y1 = os.path.join(directory, 'MODEL_50_1_ONE_TARGET_AT_TIME_y1.keras')\n",
    "model_path_y2 = os.path.join(directory, 'MODEL_50_1_ONE_TARGET_AT_TIME_y2.keras')\n",
    "model_path_y3 = os.path.join(directory, 'MODEL_50_1_ONE_TARGET_AT_TIME_y3.keras')\n",
    "\n",
    "# Wczytaj modele z podanych ścieżek\n",
    "model_y1 = load_model(model_path_y1)\n",
    "model_y2 = load_model(model_path_y2)\n",
    "model_y3 = load_model(model_path_y3)\n"
   ]
  },
  {
   "cell_type": "code",
   "execution_count": 5,
   "id": "e00b7598-d86d-4b1d-85e3-e01c052ddb18",
   "metadata": {},
   "outputs": [
    {
     "name": "stdout",
     "output_type": "stream",
     "text": [
      "3.1.1\n"
     ]
    }
   ],
   "source": [
    "import keras\n",
    "print(keras.__version__)"
   ]
  },
  {
   "cell_type": "code",
   "execution_count": 23,
   "id": "75c15ac6-1dae-44d8-bb14-4684b9f30a1b",
   "metadata": {},
   "outputs": [
    {
     "name": "stdout",
     "output_type": "stream",
     "text": [
      "(0.002896378119601305, -1.126884154476579, 0.4636561670537991)\n",
      "\u001b[1m1/1\u001b[0m \u001b[32m━━━━━━━━━━━━━━━━━━━━\u001b[0m\u001b[37m\u001b[0m \u001b[1m0s\u001b[0m 44ms/step\n",
      "\u001b[1m1/1\u001b[0m \u001b[32m━━━━━━━━━━━━━━━━━━━━\u001b[0m\u001b[37m\u001b[0m \u001b[1m0s\u001b[0m 46ms/step\n",
      "\u001b[1m1/1\u001b[0m \u001b[32m━━━━━━━━━━━━━━━━━━━━\u001b[0m\u001b[37m\u001b[0m \u001b[1m0s\u001b[0m 44ms/step\n"
     ]
    }
   ],
   "source": [
    "def scale_this_point(point_in_space):\n",
    "    X , Y , Z =   point_in_space\n",
    "    X_norm = (X - X_train_df.loc[:,'X'].mean()) / X_train_df.loc[:,'X'].std()\n",
    "    Y_norm = (Y - X_train_df.loc[:,'Y'].mean())/ X_train_df.loc[:,'Y'].std()\n",
    "    Z_norm = (Z - X_train_df.loc[:,'Z'].mean()) / X_train_df.loc[:,'Z'].std()\n",
    "    \n",
    "    return X_norm, Y_norm, Z_norm\n",
    "\n",
    "point = np.array([0, -5, 9])\n",
    "\n",
    "point_in_space_norm = scale_this_point(point)\n",
    "print(point_in_space_norm)\n",
    "point_in_space_norm[0]\n",
    "\n",
    "#prediction on the point\n",
    "NEW_point_to_predict = np.array([[point_in_space_norm[0], point_in_space_norm[1],point_in_space_norm[2]]])\n",
    "Theta1= model_y1.predict(NEW_point_to_predict)\n",
    "Theta2= model_y2.predict(NEW_point_to_predict)\n",
    "Theta3= model_y3.predict(NEW_point_to_predict)"
   ]
  },
  {
   "cell_type": "code",
   "execution_count": 24,
   "id": "f15955b4-e64e-40cb-903c-ff82b5f97011",
   "metadata": {},
   "outputs": [
    {
     "name": "stdout",
     "output_type": "stream",
     "text": [
      "[[90.02786]] [[84.94195]] [[90.97465]]\n"
     ]
    }
   ],
   "source": [
    "print(Theta1, Theta2, Theta3)"
   ]
  },
  {
   "cell_type": "code",
   "execution_count": 25,
   "id": "7737c555-67e3-4c21-b26c-78663b730ef0",
   "metadata": {},
   "outputs": [],
   "source": [
    "df_xyz_input = df = pd.read_csv(\"xyz_many_input_2.csv\")\n",
    "df.head(5)\n",
    "\n",
    "xyz_iput_norm = (df_xyz_input - X_train_df.mean()) / X_train_df.std()"
   ]
  },
  {
   "cell_type": "code",
   "execution_count": 26,
   "id": "80f23f8e-9007-4228-9806-245c68e5e48c",
   "metadata": {},
   "outputs": [
    {
     "name": "stdout",
     "output_type": "stream",
     "text": [
      "\u001b[1m7/7\u001b[0m \u001b[32m━━━━━━━━━━━━━━━━━━━━\u001b[0m\u001b[37m\u001b[0m \u001b[1m0s\u001b[0m 834us/step\n",
      "\u001b[1m7/7\u001b[0m \u001b[32m━━━━━━━━━━━━━━━━━━━━\u001b[0m\u001b[37m\u001b[0m \u001b[1m0s\u001b[0m 834us/step\n",
      "\u001b[1m7/7\u001b[0m \u001b[32m━━━━━━━━━━━━━━━━━━━━\u001b[0m\u001b[37m\u001b[0m \u001b[1m0s\u001b[0m 834us/step\n"
     ]
    }
   ],
   "source": [
    "xyz_iput_array = xyz_iput_norm.values\n",
    "\n",
    "Theta1 = model_y1.predict(xyz_iput_array)\n",
    "Theta2 = model_y2.predict(xyz_iput_array)\n",
    "Theta3 = model_y3.predict(xyz_iput_array)\n",
    "Theta1_flat = Theta1.reshape(-1)  # Spłaszczenie do jednowymiarowej tablicy\n",
    "Theta2_flat = Theta2.reshape(-1)  # Spłaszczenie do jednowymiarowej tablicy\n",
    "Theta3_flat = Theta3.reshape(-1)  # Spłaszczenie do jednowymiarowej tablicy\n",
    "\n",
    "output_df =  pd.DataFrame({\"Theta1\": Theta1_flat, \"Theta2\": Theta2_flat, \"Theta3\": Theta3_flat})\n",
    "\n",
    "output_df.to_csv('predicted_thetas_PC_many_points.csv', index=False)\n",
    "#output_df.head(20)"
   ]
  }
 ],
 "metadata": {
  "kernelspec": {
   "display_name": "Python 3 (Spyder)",
   "language": "python3",
   "name": "python3"
  },
  "language_info": {
   "codemirror_mode": {
    "name": "ipython",
    "version": 3
   },
   "file_extension": ".py",
   "mimetype": "text/x-python",
   "name": "python",
   "nbconvert_exporter": "python",
   "pygments_lexer": "ipython3",
   "version": "3.11.7"
  }
 },
 "nbformat": 4,
 "nbformat_minor": 5
}
